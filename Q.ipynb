{
 "cells": [
  {
   "cell_type": "markdown",
   "metadata": {},
   "source": [
    "### Calculate theoretical capacity"
   ]
  },
  {
   "cell_type": "markdown",
   "metadata": {},
   "source": [
    "Def1: https://www.researchgate.net/post/How-do-I-calculate-the-theoretical-capacity-of-a-cathode-material-LiMn15Ni05O4-for-lithium-ion-battery\n",
    "\n",
    "Def2: https://www.nature.com/articles/s41598-020-63743-9.pdf"
   ]
  },
  {
   "cell_type": "markdown",
   "metadata": {},
   "source": [
    "### Formula "
   ]
  },
  {
   "cell_type": "markdown",
   "metadata": {},
   "source": [
    "$Q_{theoretical} = (\\frac{nF}{3600*Mw})*1000~mAh g^{-1}$ \n",
    "\n",
    "Mw: Molecular weight, F: Faraday constant, n:?"
   ]
  },
  {
   "cell_type": "markdown",
   "metadata": {},
   "source": [
    "Some verified $Q$ values reported in literature\n",
    "1. Li2S = 1166.68 (n = 2) link: https://www.sciencedirect.com/science/article/pii/S1002007119302400, https://pubs.acs.org/doi/10.1021/ja3052206\n",
    "2. Cu2P = 508 (n = 3) link: https://pubs.acs.org/doi/full/10.1021/acs.chemmater.0c02054\n",
    "3. Cu3P = 363 (n = 3) link: https://pubs.acs.org/doi/full/10.1021/acs.chemmater.0c02054\n",
    "4. LiFePO4 = 170 (n = 1) link: https://www.researchgate.net/post/How-do-I-calculate-the-theoretical-capacity-of-a-cathode-material-LiMn15Ni05O4-for-lithium-ion-battery\n",
    "5. Ti2N = 975 (n = 4) link: https://www.sciencedirect.com/science/article/abs/pii/S0169433221021073\n",
    "6. V2N = 925 (n = 4) link: https://www.sciencedirect.com/science/article/abs/pii/S0169433221021073\n",
    "5. S = 1672 (n = 2) link: https://www.sciencedirect.com/topics/engineering/battery-capacity\n",
    "8. Li, Na, Mg, P = 3830, 1165, 2205, 865 (1, 1, 2, 1) link: https://pubs.rsc.org/en/content/articlepdf/2018/ra/c7ra12400g\n",
    "9. FePS3 = 585 (n = 4) link: https://link.springer.com/article/10.1007/s12209-020-00253-9\n",
    "10. Li4Ti5O12 (n = 3) link: https://0-pubs-rsc-org.pugwash.lib.warwick.ac.uk/en/content/articlepdf/2021/ta/d1ta00613d\n",
    "\n",
    "11. Li6NbV3O10 = 360 (n = 6) link: https://pubs.acs.org/doi/10.1021/acs.chemmater.7b02343\n",
    "\n"
   ]
  },
  {
   "cell_type": "markdown",
   "metadata": {},
   "source": [
    "\n",
    "Couldn't verify the following ones\n",
    "1. Li5NbV2O10 = 300 link: https://pubs.acs.org/doi/10.1021/acs.chemmater.7b02343 (what is the value of $n$ here?)\n",
    "2. Li13Nb3V4O20 = 236 link: https://pubs.acs.org/doi/10.1021/acs.chemmater.7b02343 (what is the value of $n$ here?)"
   ]
  },
  {
   "cell_type": "code",
   "execution_count": null,
   "metadata": {},
   "outputs": [
    {
     "name": "stdout",
     "output_type": "stream",
     "text": [
      "Theoretical capacity of Li7Nb2VO10 is: 421.29 mAh/g\n"
     ]
    }
   ],
   "source": [
    "import sympy\n",
    "from sympy import Symbol\n",
    "from molmass import Formula\n",
    "\n",
    "Material = 'Li7Nb2VO10'\n",
    "Mw = Formula(Material).mass\n",
    "n = 7   #Li: 1, Li: 2 for Li2S, Cu: 3 please check this very carefully!!!\n",
    "F = 96485.3329\n",
    "Q = (n*F)/(3600*Mw)*1000\n",
    "print ('Theoretical capacity of {:s}'.format(Material), 'is: {:.2f}'.format(Q), 'mAh/g')"
   ]
  },
  {
   "cell_type": "markdown",
   "metadata": {},
   "source": [
    "Do some $reverse$ calculation to find out $n$ when $Q$ is known"
   ]
  },
  {
   "cell_type": "code",
   "execution_count": null,
   "metadata": {},
   "outputs": [
    {
     "name": "stdout",
     "output_type": "stream",
     "text": [
      "4.359648051750672\n"
     ]
    }
   ],
   "source": [
    "Q = 300\n",
    "Material = 'Li5NbV2O10'\n",
    "Mw = Formula(Material).mass\n",
    "F = 96485.3329\n",
    "n = (Q*3600*Mw)/(F*1000)\n",
    "print (n)"
   ]
  },
  {
   "cell_type": "markdown",
   "metadata": {},
   "source": [
    "### Questions"
   ]
  },
  {
   "cell_type": "markdown",
   "metadata": {},
   "source": [
    "(a) What would be the value of $n$ in determining $Q$ value for the following stoichiometries (and why?):\n",
    "    1. Li5NbV2O10 (repoted Q = 300)\n",
    "    2. Li13Nb3V4O20 (reported Q = 236)\n",
    "    3. Li4NbVO6 (not reported)\n",
    "    4. Li7Nb2VO10 (not reported)\n",
    "    5. Li2NbVO5 (not reported)\n",
    "    6. Li3Nb2vO8 (not reported)"
   ]
  },
  {
   "cell_type": "code",
   "execution_count": null,
   "metadata": {},
   "outputs": [],
   "source": []
  }
 ],
 "metadata": {
  "kernelspec": {
   "display_name": "Python 3 (ipykernel)",
   "language": "python",
   "name": "python3"
  },
  "language_info": {
   "codemirror_mode": {
    "name": "ipython",
    "version": 3
   },
   "file_extension": ".py",
   "mimetype": "text/x-python",
   "name": "python",
   "nbconvert_exporter": "python",
   "pygments_lexer": "ipython3",
   "version": "3.7.3"
  },
  "vscode": {
   "interpreter": {
    "hash": "d6bf6c2b074364c2264f069a01e3cbd2bda993609faf862b24f9c86d0481ec5e"
   }
  }
 },
 "nbformat": 4,
 "nbformat_minor": 5
}
